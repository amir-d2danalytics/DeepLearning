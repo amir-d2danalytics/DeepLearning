{
  "nbformat": 4,
  "nbformat_minor": 0,
  "metadata": {
    "colab": {
      "provenance": [],
      "include_colab_link": true
    },
    "kernelspec": {
      "name": "python3",
      "display_name": "Python 3"
    },
    "language_info": {
      "name": "python"
    }
  },
  "cells": [
    {
      "cell_type": "markdown",
      "metadata": {
        "id": "view-in-github",
        "colab_type": "text"
      },
      "source": [
        "<a href=\"https://colab.research.google.com/github/amir-d2danalytics/DeepLearning/blob/main/Transformers_TS.ipynb\" target=\"_parent\"><img src=\"https://colab.research.google.com/assets/colab-badge.svg\" alt=\"Open In Colab\"/></a>"
      ]
    },
    {
      "cell_type": "markdown",
      "source": [
        "Installing the libraries"
      ],
      "metadata": {
        "id": "4Z-_xtxC4_dD"
      }
    },
    {
      "cell_type": "code",
      "execution_count": null,
      "metadata": {
        "colab": {
          "base_uri": "https://localhost:8080/"
        },
        "id": "00aQfLd-4MgX",
        "outputId": "3564947b-86ac-4c5a-ff1a-da41d837e063"
      },
      "outputs": [
        {
          "output_type": "stream",
          "name": "stdout",
          "text": [
            "Looking in indexes: https://pypi.org/simple, https://us-python.pkg.dev/colab-wheels/public/simple/\n",
            "Requirement already satisfied: torch in /usr/local/lib/python3.10/dist-packages (2.0.0+cu118)\n",
            "Requirement already satisfied: filelock in /usr/local/lib/python3.10/dist-packages (from torch) (3.12.0)\n",
            "Requirement already satisfied: typing-extensions in /usr/local/lib/python3.10/dist-packages (from torch) (4.5.0)\n",
            "Requirement already satisfied: sympy in /usr/local/lib/python3.10/dist-packages (from torch) (1.11.1)\n",
            "Requirement already satisfied: networkx in /usr/local/lib/python3.10/dist-packages (from torch) (3.1)\n",
            "Requirement already satisfied: jinja2 in /usr/local/lib/python3.10/dist-packages (from torch) (3.1.2)\n",
            "Requirement already satisfied: triton==2.0.0 in /usr/local/lib/python3.10/dist-packages (from torch) (2.0.0)\n",
            "Requirement already satisfied: cmake in /usr/local/lib/python3.10/dist-packages (from triton==2.0.0->torch) (3.25.2)\n",
            "Requirement already satisfied: lit in /usr/local/lib/python3.10/dist-packages (from triton==2.0.0->torch) (16.0.3)\n",
            "Requirement already satisfied: MarkupSafe>=2.0 in /usr/local/lib/python3.10/dist-packages (from jinja2->torch) (2.1.2)\n",
            "Requirement already satisfied: mpmath>=0.19 in /usr/local/lib/python3.10/dist-packages (from sympy->torch) (1.3.0)\n",
            "Looking in indexes: https://pypi.org/simple, https://us-python.pkg.dev/colab-wheels/public/simple/\n",
            "Requirement already satisfied: mlflow==1.20.2 in /usr/local/lib/python3.10/dist-packages (1.20.2)\n",
            "Requirement already satisfied: click>=7.0 in /usr/local/lib/python3.10/dist-packages (from mlflow==1.20.2) (8.1.3)\n",
            "Requirement already satisfied: cloudpickle in /usr/local/lib/python3.10/dist-packages (from mlflow==1.20.2) (2.2.1)\n",
            "Requirement already satisfied: databricks-cli>=0.8.7 in /usr/local/lib/python3.10/dist-packages (from mlflow==1.20.2) (0.17.7)\n",
            "Requirement already satisfied: entrypoints in /usr/local/lib/python3.10/dist-packages (from mlflow==1.20.2) (0.4)\n",
            "Requirement already satisfied: gitpython>=2.1.0 in /usr/local/lib/python3.10/dist-packages (from mlflow==1.20.2) (3.1.31)\n",
            "Requirement already satisfied: pyyaml>=5.1 in /usr/local/lib/python3.10/dist-packages (from mlflow==1.20.2) (6.0)\n",
            "Requirement already satisfied: protobuf>=3.7.0 in /usr/local/lib/python3.10/dist-packages (from mlflow==1.20.2) (3.20.3)\n",
            "Requirement already satisfied: pytz in /usr/local/lib/python3.10/dist-packages (from mlflow==1.20.2) (2022.7.1)\n",
            "Requirement already satisfied: requests>=2.17.3 in /usr/local/lib/python3.10/dist-packages (from mlflow==1.20.2) (2.27.1)\n",
            "Requirement already satisfied: packaging in /usr/local/lib/python3.10/dist-packages (from mlflow==1.20.2) (23.1)\n",
            "Requirement already satisfied: importlib-metadata!=4.7.0,>=3.7.0 in /usr/local/lib/python3.10/dist-packages (from mlflow==1.20.2) (6.6.0)\n",
            "Requirement already satisfied: alembic<=1.4.1 in /usr/local/lib/python3.10/dist-packages (from mlflow==1.20.2) (1.4.1)\n",
            "Requirement already satisfied: docker>=4.0.0 in /usr/local/lib/python3.10/dist-packages (from mlflow==1.20.2) (6.1.1)\n",
            "Requirement already satisfied: Flask in /usr/local/lib/python3.10/dist-packages (from mlflow==1.20.2) (2.2.4)\n",
            "Requirement already satisfied: numpy in /usr/local/lib/python3.10/dist-packages (from mlflow==1.20.2) (1.22.4)\n",
            "Requirement already satisfied: pandas in /usr/local/lib/python3.10/dist-packages (from mlflow==1.20.2) (1.5.3)\n",
            "Requirement already satisfied: prometheus-flask-exporter in /usr/local/lib/python3.10/dist-packages (from mlflow==1.20.2) (0.22.4)\n",
            "Requirement already satisfied: querystring-parser in /usr/local/lib/python3.10/dist-packages (from mlflow==1.20.2) (1.2.4)\n",
            "Requirement already satisfied: sqlparse>=0.3.1 in /usr/local/lib/python3.10/dist-packages (from mlflow==1.20.2) (0.4.4)\n",
            "Requirement already satisfied: sqlalchemy in /usr/local/lib/python3.10/dist-packages (from mlflow==1.20.2) (2.0.10)\n",
            "Requirement already satisfied: gunicorn in /usr/local/lib/python3.10/dist-packages (from mlflow==1.20.2) (20.1.0)\n",
            "Requirement already satisfied: Mako in /usr/local/lib/python3.10/dist-packages (from alembic<=1.4.1->mlflow==1.20.2) (1.2.4)\n",
            "Requirement already satisfied: python-editor>=0.3 in /usr/local/lib/python3.10/dist-packages (from alembic<=1.4.1->mlflow==1.20.2) (1.0.4)\n",
            "Requirement already satisfied: python-dateutil in /usr/local/lib/python3.10/dist-packages (from alembic<=1.4.1->mlflow==1.20.2) (2.8.2)\n",
            "Requirement already satisfied: pyjwt>=1.7.0 in /usr/local/lib/python3.10/dist-packages (from databricks-cli>=0.8.7->mlflow==1.20.2) (2.7.0)\n",
            "Requirement already satisfied: oauthlib>=3.1.0 in /usr/local/lib/python3.10/dist-packages (from databricks-cli>=0.8.7->mlflow==1.20.2) (3.2.2)\n",
            "Requirement already satisfied: tabulate>=0.7.7 in /usr/local/lib/python3.10/dist-packages (from databricks-cli>=0.8.7->mlflow==1.20.2) (0.8.10)\n",
            "Requirement already satisfied: six>=1.10.0 in /usr/local/lib/python3.10/dist-packages (from databricks-cli>=0.8.7->mlflow==1.20.2) (1.16.0)\n",
            "Requirement already satisfied: urllib3<2.0.0,>=1.26.7 in /usr/local/lib/python3.10/dist-packages (from databricks-cli>=0.8.7->mlflow==1.20.2) (1.26.15)\n",
            "Requirement already satisfied: websocket-client>=0.32.0 in /usr/local/lib/python3.10/dist-packages (from docker>=4.0.0->mlflow==1.20.2) (1.5.1)\n",
            "Requirement already satisfied: gitdb<5,>=4.0.1 in /usr/local/lib/python3.10/dist-packages (from gitpython>=2.1.0->mlflow==1.20.2) (4.0.10)\n",
            "Requirement already satisfied: zipp>=0.5 in /usr/local/lib/python3.10/dist-packages (from importlib-metadata!=4.7.0,>=3.7.0->mlflow==1.20.2) (3.15.0)\n",
            "Requirement already satisfied: certifi>=2017.4.17 in /usr/local/lib/python3.10/dist-packages (from requests>=2.17.3->mlflow==1.20.2) (2022.12.7)\n",
            "Requirement already satisfied: charset-normalizer~=2.0.0 in /usr/local/lib/python3.10/dist-packages (from requests>=2.17.3->mlflow==1.20.2) (2.0.12)\n",
            "Requirement already satisfied: idna<4,>=2.5 in /usr/local/lib/python3.10/dist-packages (from requests>=2.17.3->mlflow==1.20.2) (3.4)\n",
            "Requirement already satisfied: typing-extensions>=4.2.0 in /usr/local/lib/python3.10/dist-packages (from sqlalchemy->mlflow==1.20.2) (4.5.0)\n",
            "Requirement already satisfied: greenlet!=0.4.17 in /usr/local/lib/python3.10/dist-packages (from sqlalchemy->mlflow==1.20.2) (2.0.2)\n",
            "Requirement already satisfied: Werkzeug>=2.2.2 in /usr/local/lib/python3.10/dist-packages (from Flask->mlflow==1.20.2) (2.3.0)\n",
            "Requirement already satisfied: Jinja2>=3.0 in /usr/local/lib/python3.10/dist-packages (from Flask->mlflow==1.20.2) (3.1.2)\n",
            "Requirement already satisfied: itsdangerous>=2.0 in /usr/local/lib/python3.10/dist-packages (from Flask->mlflow==1.20.2) (2.1.2)\n",
            "Requirement already satisfied: setuptools>=3.0 in /usr/local/lib/python3.10/dist-packages (from gunicorn->mlflow==1.20.2) (67.7.2)\n",
            "Requirement already satisfied: prometheus-client in /usr/local/lib/python3.10/dist-packages (from prometheus-flask-exporter->mlflow==1.20.2) (0.16.0)\n",
            "Requirement already satisfied: smmap<6,>=3.0.1 in /usr/local/lib/python3.10/dist-packages (from gitdb<5,>=4.0.1->gitpython>=2.1.0->mlflow==1.20.2) (5.0.0)\n",
            "Requirement already satisfied: MarkupSafe>=2.0 in /usr/local/lib/python3.10/dist-packages (from Jinja2>=3.0->Flask->mlflow==1.20.2) (2.1.2)\n"
          ]
        }
      ],
      "source": [
        "!pip install torch\n",
        "!pip install mlflow==1.20.2"
      ]
    },
    {
      "cell_type": "markdown",
      "source": [
        "Importing the necessary libraries"
      ],
      "metadata": {
        "id": "zJw60ngD5DzS"
      }
    },
    {
      "cell_type": "code",
      "source": [
        "import torch\n",
        "import torch.nn as nn\n",
        "import numpy as np\n",
        "import pandas as pd\n",
        "import mlflow\n",
        "from mlflow.tracking import MlflowClient\n",
        "from sklearn.preprocessing import StandardScaler"
      ],
      "metadata": {
        "id": "ex2AlUrI4XFr"
      },
      "execution_count": null,
      "outputs": []
    },
    {
      "cell_type": "markdown",
      "source": [
        "We'll use the Airline Passengers dataset as our time series data. Let's load the data and preprocess it:"
      ],
      "metadata": {
        "id": "D-RTHCG65On6"
      }
    },
    {
      "cell_type": "code",
      "source": [
        "df = pd.read_csv('https://raw.githubusercontent.com/jbrownlee/Datasets/master/airline-passengers.csv', header=0, index_col=0, parse_dates=True, squeeze=True)\n",
        "data = df.values.astype('float32')\n",
        "scaler = StandardScaler()\n",
        "data = scaler.fit_transform(data.reshape(-1, 1)).flatten()"
      ],
      "metadata": {
        "colab": {
          "base_uri": "https://localhost:8080/"
        },
        "id": "GcTJq7Es4oBv",
        "outputId": "04139d65-3ab8-49b8-d1e9-784943035769"
      },
      "execution_count": null,
      "outputs": [
        {
          "output_type": "stream",
          "name": "stderr",
          "text": [
            "<ipython-input-4-53f182484d29>:1: FutureWarning: The squeeze argument has been deprecated and will be removed in a future version. Append .squeeze(\"columns\") to the call to squeeze.\n",
            "\n",
            "\n",
            "  df = pd.read_csv('https://raw.githubusercontent.com/jbrownlee/Datasets/master/airline-passengers.csv', header=0, index_col=0, parse_dates=True, squeeze=True)\n"
          ]
        }
      ]
    },
    {
      "cell_type": "markdown",
      "source": [
        "Defining our transformer model:"
      ],
      "metadata": {
        "id": "HM_qexEU5Zga"
      }
    },
    {
      "cell_type": "code",
      "source": [
        "class TransformerModel(nn.Module):\n",
        "  def __init__(self, input_size, d_model, nhead, num_encoder_layers, num_decoder_layers, dim_feedforward, dropout):\n",
        "    super(TransformerModel, self).__init__()\n",
        "    self.encoder = nn.TransformerEncoder(nn.TransformerEncoderLayer(d_model=d_model, nhead=nhead, dim_feedforward=dim_feedforward, dropout=dropout), num_layers=num_encoder_layers)\n",
        "    self.decoder = nn.TransformerDecoder(nn.TransformerDecoderLayer(d_model=d_model, nhead=nhead, dim_feedforward=dim_feedforward, dropout=dropout), num_layers=num_decoder_layers)\n",
        "    self.linear = nn.Linear(d_model, 1)\n",
        "    self.input_size = input_size\n",
        "    self.d_model = d_model\n",
        "\n",
        "  def forward(self, src, tgt):\n",
        "    src = src.view(-1, self.input_size, self.d_model)\n",
        "    tgt = tgt.view(-1, 1, self.d_model)\n",
        "    memory = self.encoder(src)\n",
        "    output = self.decoder(tgt, memory)\n",
        "    output = self.linear(output.squeeze(-2))\n",
        "    return output"
      ],
      "metadata": {
        "id": "6xhmVowV4tjm"
      },
      "execution_count": null,
      "outputs": []
    },
    {
      "cell_type": "markdown",
      "source": [
        "Defining our training loop"
      ],
      "metadata": {
        "id": "AP9Lx8qV5fsh"
      }
    },
    {
      "cell_type": "code",
      "source": [
        "def train_model(model, train_data, val_data, epochs, learning_rate, batch_size):\n",
        "  criterion = nn.MSELoss()\n",
        "  optimizer = torch.optim.Adam(model.parameters(), lr=learning_rate)\n",
        "  train_loader = torch.utils.data.DataLoader(train_data, batch_size=batch_size, shuffle=True)\n",
        "  val_loader = torch.utils.data.DataLoader(val_data, batch_size=batch_size, shuffle=False)\n",
        "  for epoch in range(epochs):\n",
        "    model.train()\n",
        "    for idx, (src, tgt) in enumerate(train_loader):\n",
        "      optimizer.zero_grad()\n",
        "      output = model(src, tgt)\n",
        "      loss = criterion(output, tgt)\n",
        "      loss.backward()\n",
        "      optimizer.step()\n",
        "      mlflow.log_metric('train_loss', loss.item(), step=epoch * len(train_loader) + idx)\n",
        "    model.eval()\n",
        "    with torch.no_grad():\n",
        "      val_loss = 0\n",
        "      for idx, (src, tgt) in enumerate(val_loader):\n",
        "        output = model(src, tgt)\n",
        "        loss = criterion(output, tgt)\n",
        "        val_loss += loss.item() * len(src)\n",
        "      val_loss /= len(val_data)\n",
        "      mlflow.log_metric('val_loss', val_loss, step=(epoch + 1) * len(train_loader))\n",
        "    mlflow.pytorch.log_model(model, 'model', epoch + 1)"
      ],
      "metadata": {
        "id": "uQuHWIc04x68"
      },
      "execution_count": null,
      "outputs": []
    },
    {
      "cell_type": "markdown",
      "source": [
        "Running our training loop"
      ],
      "metadata": {
        "id": "0eMROwD55kKv"
      }
    },
    {
      "cell_type": "code",
      "source": [
        "if __name__ == '__main__':\n",
        "  with mlflow.start_run():\n",
        "    mlflow.log_param('input_size', 1)\n",
        "    mlflow.log_param('d_model', 128)\n",
        "    mlflow.log_param('nhead', 8)\n",
        "    mlflow.log_param('num_encoder_layers', 3)\n",
        "    mlflow.log_param('num_decoder_layers', 3)\n",
        "    mlflow.log_param('dim_feedforward', 512)\n",
        "    mlflow.log_param('dropout', 0.1)\n",
        "    mlflow.log_param('epochs', 100)\n",
        "    mlflow.log_param('learning_rate', 0.001)\n",
        "    mlflow.log_param('batch_size', 32)\n",
        "    mlflow.log_param('dataset', 'airline_passengers')\n",
        "\n",
        "    train_data = torch.FloatTensor(data[:-12])\n",
        "    val_data = torch.FloatTensor(data[-12:])\n",
        "    model = TransformerModel(1, 128, 8, 3, 3, 512, 0.1)\n",
        "    train_model(model, train_data, val_data, 100, 0.001, 32)"
      ],
      "metadata": {
        "id": "U4t5flTR6MVs"
      },
      "execution_count": null,
      "outputs": []
    }
  ]
}